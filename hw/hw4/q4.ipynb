{
 "cells": [
  {
   "cell_type": "code",
   "execution_count": 1,
   "metadata": {},
   "outputs": [],
   "source": [
    "import math\n",
    "import matplotlib.pyplot as plt"
   ]
  },
  {
   "cell_type": "code",
   "execution_count": 2,
   "metadata": {},
   "outputs": [],
   "source": [
    "def hash_fun(a, b, p, n_buckets, x):\n",
    "    y = x % p\n",
    "    hash_val = (a * y + b) % p\n",
    "    return hash_val % n_buckets"
   ]
  },
  {
   "cell_type": "code",
   "execution_count": 3,
   "metadata": {},
   "outputs": [],
   "source": [
    "hash_file = \"/Users/zhouzixuan/Documents/spark/hw/hw4/Hw4-q4/hash_params.txt\"\n",
    "hash_raw = open(hash_file)\n",
    "a = []\n",
    "b = []\n",
    "for line in hash_raw:\n",
    "    par = line.strip().split(\"\\t\")\n",
    "    a.append(int(par[0]))\n",
    "    b.append(int(par[1]))"
   ]
  },
  {
   "cell_type": "code",
   "execution_count": 4,
   "metadata": {},
   "outputs": [],
   "source": [
    "count_file = \"/Users/zhouzixuan/Documents/spark/hw/hw4/Hw4-q4/counts.txt\"\n",
    "counts_raw = open(count_file)\n",
    "counts = []\n",
    "for line in counts_raw:\n",
    "    par = line.strip().split(\"\\t\")\n",
    "    counts.append(int(par[1]))"
   ]
  },
  {
   "cell_type": "code",
   "execution_count": 5,
   "metadata": {},
   "outputs": [],
   "source": [
    "word_file = \"/Users/zhouzixuan/Documents/spark/hw/hw4/Hw4-q4/words_stream.txt\"\n",
    "p = 123457\n",
    "e = math.exp(1) * 0.0001\n",
    "delta = math.exp(-5)\n",
    "hash_num = 5\n",
    "hash_fun_list = []\n",
    "for i in range(hash_num):\n",
    "    hash_fun_list.append({})\n",
    "\n",
    "len_stream = 0\n",
    "n_buckets = int(math.ceil(math.exp(1)/e))\n",
    "word_stream = open(word_file)\n",
    "for line in word_stream:\n",
    "    len_stream = len_stream + 1\n",
    "    raw_num = line.strip().split(\"\\t\")\n",
    "    x = int(raw_num[0])\n",
    "    for i in range(hash_num):\n",
    "        hash_val = hash_fun(a[i], b[i], p, n_buckets, x)\n",
    "        if hash_val not in hash_fun_list[i]:\n",
    "            hash_fun_list[i][hash_val] = 1\n",
    "        else:\n",
    "            hash_fun_list[i][hash_val] = 1 + hash_fun_list[i][hash_val]"
   ]
  },
  {
   "cell_type": "code",
   "execution_count": 6,
   "metadata": {},
   "outputs": [],
   "source": [
    "hash_1, hash_2, hash_3, hash_4, hash_5 = {}, {}, {}, {}, {}\n",
    "hashing = [hash_1, hash_2, hash_3, hash_4, hash_5]\n",
    "word_stream = open(word_file)\n",
    "for line in word_stream:\n",
    "    number = int(line.strip())\n",
    "    for i in range(1, 6):\n",
    "        result = hash_fun(a[i - 1], b[i - 1], 123457, n_buckets, number)\n",
    "        if (i, result) not in hashing[i - 1]:\n",
    "            hashing[i - 1][(i, result)] = 1\n",
    "        else:\n",
    "            hashing[i - 1][(i, result)] += 1"
   ]
  },
  {
   "cell_type": "code",
   "execution_count": 11,
   "metadata": {},
   "outputs": [],
   "source": [
    "error_list = []\n",
    "x_list = []\n",
    "for i in range(len(counts)):\n",
    "    F_i = counts[i]\n",
    "    x = i + 1\n",
    "    c_list = []\n",
    "    for j in range(hash_num):\n",
    "        hash_val = hash_fun(a[j], b[j], p, n_buckets, x)\n",
    "        c_tmp = hash_fun_list[j][hash_val]\n",
    "        c_list.append(c_tmp)\n",
    "    c_min = min(c_list)\n",
    "    error_tmp = abs(c_min - F_i)/float(F_i)\n",
    "    x_list.append(F_i/float(len_stream))\n",
    "    error_list.append(error_tmp)"
   ]
  },
  {
   "cell_type": "code",
   "execution_count": null,
   "metadata": {},
   "outputs": [
    {
     "name": "stderr",
     "output_type": "stream",
     "text": [
      "/System/Library/Frameworks/Python.framework/Versions/2.7/Extras/lib/python/matplotlib/collections.py:548: FutureWarning: elementwise comparison failed; returning scalar instead, but in the future will perform elementwise comparison\n",
      "  if self._edgecolors == 'face':\n"
     ]
    }
   ],
   "source": [
    "ax = plt.gca()\n",
    "ax.plot(x_list,error_list,'b.') \n",
    "ax.set_yscale('log')\n",
    "ax.set_xscale('log')\n",
    "plt.title('The result of algorithm: frequency vs relative error') \n",
    "plt.xlabel(\"Word frequency\")\n",
    "plt.ylabel(\"Relative error\")\n",
    "plt.show()"
   ]
  },
  {
   "cell_type": "code",
   "execution_count": null,
   "metadata": {},
   "outputs": [],
   "source": [
    "plt.figure(2)\n",
    "ax = plt.gca()\n",
    "ax.plot(x_list,error_list,'b.') \n",
    "ax.set_yscale('log')\n",
    "ax.set_xscale('log')\n",
    "plt.title('The result of algorithm: frequency vs relative error') \n",
    "plt.xlabel(\"Word frequency\")\n",
    "plt.ylabel(\"Relative error\")\n",
    "plt.show()"
   ]
  },
  {
   "cell_type": "code",
   "execution_count": null,
   "metadata": {},
   "outputs": [],
   "source": []
  }
 ],
 "metadata": {
  "kernelspec": {
   "display_name": "Python 2",
   "language": "python",
   "name": "python2"
  },
  "language_info": {
   "codemirror_mode": {
    "name": "ipython",
    "version": 2
   },
   "file_extension": ".py",
   "mimetype": "text/x-python",
   "name": "python",
   "nbconvert_exporter": "python",
   "pygments_lexer": "ipython2",
   "version": "2.7.10"
  }
 },
 "nbformat": 4,
 "nbformat_minor": 2
}
