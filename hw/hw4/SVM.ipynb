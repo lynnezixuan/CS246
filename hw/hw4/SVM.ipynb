{
 "cells": [
  {
   "cell_type": "code",
   "execution_count": 10,
   "metadata": {},
   "outputs": [],
   "source": [
    "import numpy as np\n",
    "import math\n",
    "import time\n",
    "from sklearn.utils import shuffle\n",
    "import matplotlib.pyplot as plt"
   ]
  },
  {
   "cell_type": "code",
   "execution_count": 11,
   "metadata": {},
   "outputs": [],
   "source": [
    "file_y = open(\"target.txt\")\n",
    "raw_Y = []\n",
    "for line in file_y:\n",
    "    raw_Y.append(int(line.strip()))\n",
    "m = len(raw_Y)\n",
    "Y = np.array(raw_Y).reshape((m, 1))\n",
    "\n",
    "file_x = open(\"features.txt\")\n",
    "raw_X = []\n",
    "for line in file_x:\n",
    "    tmp = line.strip().split(\",\")\n",
    "    tmp = map(int, tmp)\n",
    "    raw_X.append(tmp)\n",
    "X = np.array(raw_X)\n",
    "n = X.shape[1]\n",
    "X, Y = shuffle(X, Y, random_state=0)"
   ]
  },
  {
   "cell_type": "code",
   "execution_count": 12,
   "metadata": {},
   "outputs": [
    {
     "name": "stderr",
     "output_type": "stream",
     "text": [
      "/Library/Python/2.7/site-packages/ipykernel_launcher.py:30: RuntimeWarning: invalid value encountered in divide\n"
     ]
    },
    {
     "name": "stdout",
     "output_type": "stream",
     "text": [
      "58\n",
      "0.351810216904\n"
     ]
    }
   ],
   "source": [
    "#batch\n",
    "k = 0\n",
    "eta = 0.0000003\n",
    "e = 0.25\n",
    "w = np.zeros((n,1))\n",
    "b = 0\n",
    "C = 100\n",
    "cost_new = float(\"Inf\")\n",
    "cost_old = float(\"Inf\")\n",
    "cost_list_batch = []\n",
    "start = time.time()\n",
    "while True:\n",
    "    cost_part1 = 1./2 * np.sum(w*w)\n",
    "    r = Y * (np.dot(X, w) + b)\n",
    "    mask_cost = (1-r) > 0\n",
    "    cost_part2 = np.sum((1 - r) * mask_cost,axis = 0, keepdims = True)\n",
    "    cost_new = cost_part1 + C * cost_part2\n",
    "\n",
    "    mask = r < 1 # 6000 * 1\n",
    "    grad_raw = -Y * X # 6000 * 122\n",
    "    grad_part2 = np.sum(grad_raw * mask, axis = 0, keepdims = True).T\n",
    "    grad = w + C * grad_part2\n",
    "    w = w - eta * grad\n",
    "    grad_raw_b = -Y\n",
    "    grad_part2_b = np.sum(grad_raw_b * mask, axis = 0, keepdims = True).T\n",
    "    grad_b = C * grad_part2_b\n",
    "    b = b - eta * grad_b\n",
    "    k = k + 1\n",
    "\n",
    "    conv_cost = np.abs(cost_old - cost_new) * 100 / cost_old\n",
    "    if conv_cost < e: break     \n",
    "    cost_old = cost_new\n",
    "    cost_list_batch.append(cost_old[0][0])\n",
    "print k\n",
    "print time.time() - start\n",
    "t1 = k"
   ]
  },
  {
   "cell_type": "code",
   "execution_count": 13,
   "metadata": {},
   "outputs": [
    {
     "name": "stdout",
     "output_type": "stream",
     "text": [
      "1430\n",
      "[[ 264846.21703775]]\n",
      "4.11197495461\n"
     ]
    }
   ],
   "source": [
    "#SGD\n",
    "k = 0\n",
    "eta = 0.0001\n",
    "e = 0.001\n",
    "w = np.zeros((n,1))\n",
    "b = 0\n",
    "C = 100\n",
    "cost_new = 0\n",
    "cost_old = 0\n",
    "conv_cost = 0\n",
    "i = 1\n",
    "# np.random.shuffle(X)\n",
    "cost_list_sgd = []\n",
    "start = time.time()\n",
    "while True:\n",
    "    cost_part1 = 1./2 * np.sum(w*w)\n",
    "    r = Y[i-1] * (np.dot(X[i-1].reshape(1, 122), w) + b)  \n",
    "    r_cost = Y * (np.dot(X, w) + b)\n",
    "    mask_cost = (1-r_cost) > 0\n",
    "    cost_part2 = np.sum((1 - r_cost) * mask_cost,axis = 0, keepdims = True)\n",
    "    cost_new = cost_part1 + C * cost_part2\n",
    "    \n",
    "    mask = r < 1 # 6000 * 1\n",
    "    grad_raw = -Y[i-1] * (X[i-1].reshape(1, 122))# 6000 * 122\n",
    "    grad_part2 = (grad_raw * mask).T\n",
    "    grad = w + C * grad_part2\n",
    "    w = w - eta * grad\n",
    "    grad_raw_b = -Y[i-1]\n",
    "    grad_part2_b = grad_raw_b * mask\n",
    "    grad_b = C * grad_part2_b\n",
    "    b = b - eta * grad_b\n",
    "    \n",
    "    if k > 0:\n",
    "        conv_cost_new = np.abs(cost_old - cost_new) * 100 / cost_old\n",
    "        conv_cost = 0.5 * conv_cost + 0.5 * conv_cost_new       \n",
    "        if conv_cost < e: break \n",
    "    k = k + 1\n",
    "    i = i % m + 1\n",
    "    cost_old = cost_new\n",
    "    cost_list_sgd.append(cost_old[0][0])\n",
    "print k\n",
    "print cost_new\n",
    "print time.time() - start\n",
    "t2 = k"
   ]
  },
  {
   "cell_type": "code",
   "execution_count": 14,
   "metadata": {},
   "outputs": [
    {
     "name": "stdout",
     "output_type": "stream",
     "text": [
      "940\n",
      "[[ 243211.05021047]]\n",
      "2.94053983688\n"
     ]
    }
   ],
   "source": [
    "#mini batch\n",
    "k = 0\n",
    "l = 0\n",
    "eta = 0.00001\n",
    "e = 0.01\n",
    "batch_size = 20\n",
    "w = np.zeros((n,1))\n",
    "b = 0\n",
    "C = 100\n",
    "cost_new = 0\n",
    "cost_old = 0\n",
    "conv_cost = 0\n",
    "cost_list_mini = []\n",
    "start = time.time()\n",
    "while True:\n",
    "    cost_part1 = 1./2 * np.sum(w*w)\n",
    "    r = Y[l * batch_size : (l+1) * batch_size] * (np.dot(X[l * batch_size : (l+1) * batch_size], w) + b)  \n",
    "    r_cost = Y * (np.dot(X, w) + b)\n",
    "    mask_cost = (1-r_cost) > 0\n",
    "    cost_part2 = np.sum((1 - r_cost) * mask_cost,axis = 0, keepdims = True)\n",
    "    cost_new = cost_part1 + C * cost_part2\n",
    "    \n",
    "    mask = r < 1 # 6000 * 1\n",
    "    grad_raw = -Y[l * batch_size : (l+1) * batch_size] * (X[l * batch_size : (l+1) * batch_size])# 6000 * 122\n",
    "    grad_part2 = np.sum(grad_raw * mask, axis = 0, keepdims = True).T\n",
    "    grad = w + C * grad_part2\n",
    "    w = w - eta * grad\n",
    "    grad_raw_b = -Y[l * batch_size : (l+1) * batch_size]\n",
    "    grad_part2_b = np.sum(grad_raw_b * mask, axis = 0, keepdims = True).T\n",
    "    grad_b = C * grad_part2_b\n",
    "    b = b - eta * grad_b\n",
    "    if k > 0:\n",
    "        conv_cost_new = np.abs(cost_old - cost_new) * 100 / cost_old\n",
    "        conv_cost = 0.5 * conv_cost + 0.5 * conv_cost_new       \n",
    "        if conv_cost < e: break \n",
    "    k = k + 1\n",
    "    l = (l + 1) % ((m + batch_size - 1)/batch_size)\n",
    "    cost_old = cost_new\n",
    "    cost_list_mini.append(cost_old[0][0])\n",
    "print k\n",
    "print cost_new\n",
    "print time.time() - start\n",
    "t3 = k"
   ]
  },
  {
   "cell_type": "code",
   "execution_count": null,
   "metadata": {},
   "outputs": [],
   "source": [
    "plt.figure()\n",
    "plt.hold(True)\n",
    "iter1 = range(t1 - 1)\n",
    "iter2 = range(t2)\n",
    "iter3 = range(t3)\n",
    "plt.xlabel(\"Iteration\")\n",
    "plt.ylabel(\"Cost\")\n",
    "label = [\"Batch GD\",\"SGD\",\"mini batch GD\"]\n",
    "plt.title(\"Cost vs Iteration\")\n",
    "a1 = plt.plot(iter1, cost_list_batch)\n",
    "a2 = plt.plot(iter2, cost_list_sgd)\n",
    "a3 = plt.plot(iter3, cost_list_mini)\n",
    "plt.legend(label,loc = 0, ncol = 2)\n",
    "plt.show()"
   ]
  },
  {
   "cell_type": "code",
   "execution_count": 7,
   "metadata": {},
   "outputs": [],
   "source": [
    "if __name__==\"__main__\":\n",
    "    C = 100\n",
    "    eta = 0.0001\n",
    "    e = 0.01"
   ]
  },
  {
   "cell_type": "code",
   "execution_count": null,
   "metadata": {},
   "outputs": [],
   "source": []
  }
 ],
 "metadata": {
  "kernelspec": {
   "display_name": "Python 2",
   "language": "python",
   "name": "python2"
  },
  "language_info": {
   "codemirror_mode": {
    "name": "ipython",
    "version": 2
   },
   "file_extension": ".py",
   "mimetype": "text/x-python",
   "name": "python",
   "nbconvert_exporter": "python",
   "pygments_lexer": "ipython2",
   "version": "2.7.10"
  }
 },
 "nbformat": 4,
 "nbformat_minor": 2
}
