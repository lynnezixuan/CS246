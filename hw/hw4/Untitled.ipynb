{
 "cells": [
  {
   "cell_type": "code",
   "execution_count": 1,
   "metadata": {},
   "outputs": [],
   "source": [
    "import math\n",
    "from collections import Counter\n",
    "import time\n",
    "import matplotlib.pyplot as plt"
   ]
  },
  {
   "cell_type": "code",
   "execution_count": 2,
   "metadata": {},
   "outputs": [],
   "source": [
    "error_list = []\n",
    "freq_list = []\n",
    "def stream_data(filename, hashname, countname, functions, buckets):\n",
    "\tcounts = open(countname, \"r\")\n",
    "\tcount = {}\n",
    "\tfor line in counts:\n",
    "\t\tnumbers = line.strip().split(\"\\t\")\n",
    "\t\tcount[int(numbers[0])] = int(numbers[1])\n",
    "\thashing = open(hashname, \"r\")\n",
    "\ta, b = [], []\n",
    "\tfor line in hashing:\n",
    "\t\tnumbers = line.strip().split(\"\\t\")\n",
    "\t\ta.append(int(numbers[0]))\n",
    "\t\tb.append(int(numbers[1]))\n",
    "\thash_1, hash_2, hash_3, hash_4, hash_5 = {}, {}, {}, {}, {}\n",
    "\thashing = [hash_1, hash_2, hash_3, hash_4, hash_5]\n",
    "\tdata = open(filename, \"r\")\n",
    "\tstart_mc = time.clock()\n",
    "\tt = 0\n",
    "\tfor line in data:\n",
    "\t\tnumber = int(line.strip())\n",
    "\t\tt += 1\n",
    "\t\tfor i in range(1, 6):\n",
    "\t\t\tresult = hash_fun(a[i - 1], b[i - 1], 123457, buckets, number)\n",
    "\t\t\tif (i, result) not in hashing[i - 1]:\n",
    "\t\t\t\thashing[i - 1][(i, result)] = 1\n",
    "\t\t\telse:\n",
    "\t\t\t\thashing[i - 1][(i, result)] += 1\n",
    "\tA, B, C, D, E = Counter(hash_1), Counter(hash_2), Counter(hash_3), Counter(hash_4), Counter(hash_5)\n",
    "\tfinal = dict(A + B + C + D + E)\n",
    "\tprint len(final)\n",
    "\tend_mc = time.clock()\n",
    "\tprint end_mc - start_mc\n",
    "\tstart_mc = time.clock()\n",
    "\tfor i in range(1, len(count) + 1):\n",
    "\t\tmin_count = final[(1, hash_fun(a[0], b[0], 123457, buckets, i))]\n",
    "\t\tfor j in range(2, functions + 1):\n",
    "\t\t\tif final[(j, hash_fun(a[j - 1], b[j - 1], 123457, buckets, i))] < min_count:\n",
    "\t\t\t\tmin_count = final[(j, hash_fun(a[j - 1], b[j - 1], 123457, buckets, i))]\n",
    "\t\tf_i = count[i]\n",
    "\t\terror_i = float(min_count - f_i) / f_i\n",
    "\t\terror_list.append(math.log10(error_i))\n",
    "\t\tfreq_list.append(math.log10(float(f_i) / t))\n",
    "\tend_mc = time.clock()\n",
    "\tplt.scatter(freq_list,error_list,c = 'b',marker = '.') \n",
    "\tplt.show()\n",
    "\tprint end_mc - start_mc"
   ]
  },
  {
   "cell_type": "code",
   "execution_count": null,
   "metadata": {},
   "outputs": [],
   "source": [
    "def hash_fun(a, b, p, n_buckets, x):\n",
    "\ty = x % p\n",
    "\thash_val = (a * y + b) % p\n",
    "\treturn hash_val % n_buckets"
   ]
  },
  {
   "cell_type": "code",
   "execution_count": null,
   "metadata": {},
   "outputs": [
    {
     "name": "stdout",
     "output_type": "stream",
     "text": [
      "[3, 17, 38, 61, 78]\n",
      "[1561, 277, 394, 13, 246]\n",
      "50000\n",
      "36.113665\n"
     ]
    },
    {
     "name": "stderr",
     "output_type": "stream",
     "text": [
      "/System/Library/Frameworks/Python.framework/Versions/2.7/Extras/lib/python/matplotlib/collections.py:548: FutureWarning: elementwise comparison failed; returning scalar instead, but in the future will perform elementwise comparison\n",
      "  if self._edgecolors == 'face':\n"
     ]
    }
   ],
   "source": [
    "if __name__ == '__main__':\n",
    "\tdelta = math.exp(-5)\n",
    "\tepsilon = math.e * 0.0001\n",
    "\tbuckets = int(math.ceil(math.e / epsilon))\n",
    "\tfunctions = int(math.log(1 / delta))\n",
    "\tword_file = \"/Users/zhouzixuan/Documents/spark/hw/hw4/Hw4-q4/words_stream_tiny.txt\"\n",
    "\thash_file = \"/Users/zhouzixuan/Documents/spark/hw/hw4/Hw4-q4/hash_params.txt\"\n",
    "\tcount_file = \"/Users/zhouzixuan/Documents/spark/hw/hw4/Hw4-q4/counts_tiny.txt\"\n",
    "\tstream_data(word_file, hash_file, count_file, functions, buckets)"
   ]
  },
  {
   "cell_type": "code",
   "execution_count": null,
   "metadata": {},
   "outputs": [],
   "source": []
  }
 ],
 "metadata": {
  "kernelspec": {
   "display_name": "Python 2",
   "language": "python",
   "name": "python2"
  },
  "language_info": {
   "codemirror_mode": {
    "name": "ipython",
    "version": 2
   },
   "file_extension": ".py",
   "mimetype": "text/x-python",
   "name": "python",
   "nbconvert_exporter": "python",
   "pygments_lexer": "ipython2",
   "version": "2.7.10"
  }
 },
 "nbformat": 4,
 "nbformat_minor": 2
}
